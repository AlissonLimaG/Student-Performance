{
  "cells": [
    {
      "cell_type": "markdown",
      "metadata": {
        "id": "9Ftvzkni1fkS"
      },
      "source": [
        "# Artigo 1"
      ]
    },
    {
      "cell_type": "code",
      "execution_count": 2,
      "metadata": {
        "colab": {
          "base_uri": "https://localhost:8080/",
          "height": 465
        },
        "id": "FtfgX0k4yKsv",
        "outputId": "f447251a-560a-4d20-e89b-0cedbb1f7f8b"
      },
      "outputs": [
        {
          "name": "stdout",
          "output_type": "stream",
          "text": [
            "Distribuição após oversampling dos alunos que passaram:\n"
          ]
        },
        {
          "name": "stderr",
          "output_type": "stream",
          "text": [
            "/tmp/ipykernel_14335/760674162.py:47: FutureWarning: DataFrame.applymap has been deprecated. Use DataFrame.map instead.\n",
            "  combined_data[['G1', 'G2', 'G3']] = combined_data[['G1', 'G2', 'G3']].applymap(converter_nota)\n"
          ]
        },
        {
          "data": {
            "text/plain": [
              "0     yes\n",
              "1     yes\n",
              "2     yes\n",
              "3     yes\n",
              "4     yes\n",
              "     ... \n",
              "95    yes\n",
              "96    yes\n",
              "97    yes\n",
              "98    yes\n",
              "99    yes\n",
              "Name: higher, Length: 100, dtype: object"
            ]
          },
          "execution_count": 2,
          "metadata": {},
          "output_type": "execute_result"
        }
      ],
      "source": [
        "import pandas as pd\n",
        "import numpy as np\n",
        "from sklearn.model_selection import train_test_split, cross_val_score\n",
        "from sklearn.preprocessing import LabelEncoder, StandardScaler\n",
        "from sklearn.tree import DecisionTreeClassifier\n",
        "from sklearn.ensemble import AdaBoostClassifier\n",
        "from sklearn.neighbors import KNeighborsClassifier\n",
        "from sklearn.neural_network import MLPClassifier\n",
        "from sklearn.feature_selection import SelectKBest, mutual_info_classif\n",
        "from sklearn.metrics import classification_report, accuracy_score, confusion_matrix, precision_score, f1_score\n",
        "from imblearn.over_sampling import RandomOverSampler\n",
        "from tabulate import tabulate\n",
        "from imblearn.over_sampling import SMOTE\n",
        "from sklearn.model_selection import GridSearchCV, train_test_split\n",
        "import joblib\n",
        "import pickle\n",
        "\n",
        "\n",
        "# Carregar os datasets\n",
        "portugal_data = pd.read_csv('student-por.csv', sep=';')\n",
        "mathematics_data = pd.read_csv('student-mat.csv', sep=';')\n",
        "\n",
        "portugal_data['Course'] = 'P'\n",
        "mathematics_data['Course'] = 'M'\n",
        "\n",
        "combined_data = pd.concat([portugal_data, mathematics_data], ignore_index=True)\n",
        "\n",
        "# Calcular a média das colunas G1, G2 e G3\n",
        "combined_data['result'] = (combined_data[['G1', 'G2', 'G3']].mean(axis=1).round(2) > 10).astype(int)\n",
        "\n",
        "# Filtrar os alunos que passaram (média maior que 10)\n",
        "passed_students = combined_data[combined_data['result'] > 10]\n",
        "\n",
        "# Filtrar os alunos que não passaram (média menor ou igual a 10)\n",
        "failed_students = combined_data[combined_data['result'] <= 10]\n",
        "\n",
        "\n",
        "def converter_nota(nota):\n",
        "    if nota > 10:\n",
        "        return 1\n",
        "    else:\n",
        "        return 0\n",
        "\n",
        "# Verificar a nova distribuição dos alunos que passaram após o SMOTE\n",
        "print(\"Distribuição após oversampling dos alunos que passaram:\")\n",
        "\n",
        "combined_data[['G1', 'G2', 'G3']] = combined_data[['G1', 'G2', 'G3']].applymap(converter_nota)\n",
        "\n",
        "\n",
        "combined_data['higher'].head(100)"
      ]
    },
    {
      "cell_type": "code",
      "execution_count": 3,
      "metadata": {
        "colab": {
          "base_uri": "https://localhost:8080/",
          "height": 704
        },
        "id": "BQTudXTFh5iD",
        "outputId": "d61466ed-4153-4c61-f854-583b36df5c1c"
      },
      "outputs": [
        {
          "name": "stderr",
          "output_type": "stream",
          "text": [
            "/home/alisson/Área de trabalho/Aprendizado/3º Período/Inteligência Artifcial/MVP/venv/lib64/python3.12/site-packages/sklearn/ensemble/_weight_boosting.py:527: FutureWarning: The SAMME.R algorithm (the default) is deprecated and will be removed in 1.6. Use the SAMME algorithm to circumvent this warning.\n",
            "  warnings.warn(\n"
          ]
        },
        {
          "name": "stdout",
          "output_type": "stream",
          "text": [
            "Resultados do AdaBoost com J48:\n",
            "              precision    recall  f1-score   support\n",
            "\n",
            "           0       0.75      0.80      0.78        41\n",
            "           1       0.87      0.83      0.85        64\n",
            "\n",
            "    accuracy                           0.82       105\n",
            "   macro avg       0.81      0.82      0.81       105\n",
            "weighted avg       0.82      0.82      0.82       105\n",
            "\n",
            "Acurácia: 81.90%\n",
            "Precisão: 86.89%\n",
            "f1-score: 84.80%\n"
          ]
        },
        {
          "data": {
            "text/plain": [
              "0     1\n",
              "1     1\n",
              "2     1\n",
              "3     1\n",
              "4     1\n",
              "     ..\n",
              "95    1\n",
              "96    1\n",
              "97    1\n",
              "98    1\n",
              "99    1\n",
              "Name: higher, Length: 100, dtype: int64"
            ]
          },
          "execution_count": 3,
          "metadata": {},
          "output_type": "execute_result"
        }
      ],
      "source": [
        "label_encoder = LabelEncoder()\n",
        "\n",
        "for col in combined_data:\n",
        "    combined_data[col] = label_encoder.fit_transform(combined_data[col])\n",
        "\n",
        "X = combined_data.drop(columns=['G3','result','Course'])\n",
        "y = combined_data['G3']\n",
        "\n",
        "\n",
        "X_train, X_test, y_train, y_test = train_test_split(X, y, test_size=0.1, random_state=42)\n",
        "\n",
        "\n",
        "dt = DecisionTreeClassifier(random_state=42)\n",
        "ada_boost = AdaBoostClassifier(estimator=dt, n_estimators=50, random_state=42)  # Use \"estimator\" em vez de \"base_estimator\"\n",
        "ada_boost.fit(X_train, y_train)\n",
        "y_pred_ada = ada_boost.predict(X_test)\n",
        "\n",
        "\n",
        "\n",
        "print(\"Resultados do AdaBoost com J48:\")\n",
        "print(classification_report(y_test, y_pred_ada))\n",
        "print(f\"Acurácia: {accuracy_score(y_test, y_pred_ada)*100:.2f}%\")\n",
        "print(f\"Precisão: {precision_score(y_test, y_pred_ada)*100:.2f}%\")\n",
        "print(f\"f1-score: {f1_score(y_test, y_pred_ada)*100:.2f}%\")\n",
        "combined_data['higher'].head(100)"
      ]
    },
    {
      "cell_type": "markdown",
      "metadata": {
        "id": "S7upP0s7v9Ai"
      },
      "source": [
        "###Balancemento da Classe 'result'"
      ]
    },
    {
      "cell_type": "code",
      "execution_count": 4,
      "metadata": {
        "colab": {
          "base_uri": "https://localhost:8080/"
        },
        "id": "hXMI3MShv8j7",
        "outputId": "9bd99ebd-cddd-4a98-f4c2-156fd4874c41"
      },
      "outputs": [
        {
          "name": "stdout",
          "output_type": "stream",
          "text": [
            "G3\n",
            "1    597\n",
            "0    597\n",
            "Name: count, dtype: int64\n"
          ]
        },
        {
          "name": "stderr",
          "output_type": "stream",
          "text": [
            "/home/alisson/Área de trabalho/Aprendizado/3º Período/Inteligência Artifcial/MVP/venv/lib64/python3.12/site-packages/sklearn/ensemble/_weight_boosting.py:527: FutureWarning: The SAMME.R algorithm (the default) is deprecated and will be removed in 1.6. Use the SAMME algorithm to circumvent this warning.\n",
            "  warnings.warn(\n"
          ]
        },
        {
          "name": "stdout",
          "output_type": "stream",
          "text": [
            "Resultados do AdaBoost com J48:\n",
            "              precision    recall  f1-score   support\n",
            "\n",
            "           0       0.75      0.88      0.81        41\n",
            "           1       0.91      0.81      0.86        64\n",
            "\n",
            "    accuracy                           0.84       105\n",
            "   macro avg       0.83      0.85      0.83       105\n",
            "weighted avg       0.85      0.84      0.84       105\n",
            "\n",
            "Acurácia: 83.81%\n",
            "Precisão: 91.23%\n",
            "f1-score: 85.95%\n"
          ]
        }
      ],
      "source": [
        "combined_data.groupby('result').size()\n",
        "\n",
        "oversample = SMOTE(sampling_strategy = 1)\n",
        "\n",
        "X_over, y_over = oversample.fit_resample(X_train, y_train)\n",
        "\n",
        "print(pd.Series(y_over).value_counts())\n",
        "\n",
        "\n",
        "ada_boost = AdaBoostClassifier(estimator=dt, n_estimators=50, random_state=42)\n",
        "ada_boost.fit(X_over, y_over)\n",
        "y_pred_ada = ada_boost.predict(X_test)\n",
        "\n",
        "print(\"Resultados do AdaBoost com J48:\")\n",
        "print(classification_report(y_test, y_pred_ada))\n",
        "print(f\"Acurácia: {accuracy_score(y_test, y_pred_ada)*100:.2f}%\")\n",
        "print(f\"Precisão: {precision_score(y_test, y_pred_ada)*100:.2f}%\")\n",
        "print(f\"f1-score: {f1_score(y_test, y_pred_ada)*100:.2f}%\")\n"
      ]
    },
    {
      "cell_type": "markdown",
      "metadata": {
        "id": "Uh5l_U4nzUBC"
      },
      "source": [
        "###Feature selection"
      ]
    },
    {
      "cell_type": "code",
      "execution_count": 5,
      "metadata": {
        "colab": {
          "base_uri": "https://localhost:8080/"
        },
        "id": "SCsmoX83zYpB",
        "outputId": "67c560e7-abb9-4ee8-debc-62d8ad70e9bf"
      },
      "outputs": [
        {
          "data": {
            "text/plain": [
              "array(['G2', 'G1', 'failures', 'higher', 'sex', 'famsup', 'schoolsup',\n",
              "       'Mjob', 'address', 'Medu', 'Walc', 'Dalc'], dtype=object)"
            ]
          },
          "execution_count": 5,
          "metadata": {},
          "output_type": "execute_result"
        }
      ],
      "source": [
        "selector = SelectKBest(score_func=mutual_info_classif, k='all')\n",
        "X1 = combined_data.drop(columns=['G3','result','Course'])\n",
        "\n",
        "y = combined_data['G3']\n",
        "X_new = selector.fit_transform(X1, y)\n",
        "\n",
        "feature_scores = pd.DataFrame({\n",
        "    'Feature': X1.columns,\n",
        "    'Score': selector.scores_\n",
        "})\n",
        "\n",
        "feature_scores = feature_scores.sort_values(by='Score', ascending=False)\n",
        "\n",
        "new_features = feature_scores.head(12)['Feature'].values\n",
        "\n",
        "new_features"
      ]
    },
    {
      "cell_type": "markdown",
      "metadata": {
        "id": "NkCF8XnZ9mRp"
      },
      "source": [
        "### Treinando modelo com os novos features"
      ]
    },
    {
      "cell_type": "code",
      "execution_count": 6,
      "metadata": {
        "colab": {
          "base_uri": "https://localhost:8080/"
        },
        "id": "LBxZZT1V9qVR",
        "outputId": "fbde4598-5b5f-4911-c66b-a165dbe58a4c"
      },
      "outputs": [
        {
          "name": "stderr",
          "output_type": "stream",
          "text": [
            "/home/alisson/Área de trabalho/Aprendizado/3º Período/Inteligência Artifcial/MVP/venv/lib64/python3.12/site-packages/sklearn/ensemble/_weight_boosting.py:527: FutureWarning: The SAMME.R algorithm (the default) is deprecated and will be removed in 1.6. Use the SAMME algorithm to circumvent this warning.\n",
            "  warnings.warn(\n"
          ]
        },
        {
          "name": "stdout",
          "output_type": "stream",
          "text": [
            "Resultados do AdaBoost com J48:\n",
            "              precision    recall  f1-score   support\n",
            "\n",
            "           0       0.89      0.98      0.93        51\n",
            "           1       0.98      0.91      0.95        69\n",
            "\n",
            "    accuracy                           0.94       120\n",
            "   macro avg       0.94      0.95      0.94       120\n",
            "weighted avg       0.95      0.94      0.94       120\n",
            "\n",
            "Acurácia: 94.17%\n",
            "Precisão: 98.44%\n",
            "f1-score: 94.74%\n"
          ]
        }
      ],
      "source": [
        "#Separando dados de teste com X_over(dados de treino depois do balanceamento)\n",
        "#e new_features(12 melhores atributos do dataset depois do método de ganho de informação)\n",
        "#new_features = ['G2', 'G1', 'failures', 'Medu', 'paid', 'Fedu', 'Fjob', 'Mjob',\n",
        "#'guardian', 'age', 'schoolsup', 'higher']\n",
        "#a cada execução do feature selection, conjuntos de features diferentes são mostradas, acima estão as\n",
        "#que resultaram o melhor modelo.\n",
        "newTest = X_over[new_features]\n",
        "\n",
        "X_train, X_test, y_train, y_test = train_test_split(newTest, y_over, test_size=0.1, random_state=42)\n",
        "\n",
        "ada_boost.fit(X_train, y_train)\n",
        "y_pred_ada = ada_boost.predict(X_test)\n",
        "\n",
        "print(\"Resultados do AdaBoost com J48:\")\n",
        "print(classification_report(y_test, y_pred_ada))\n",
        "print(f\"Acurácia: {accuracy_score(y_test, y_pred_ada)*100:.2f}%\")\n",
        "print(f\"Precisão: {precision_score(y_test, y_pred_ada)*100:.2f}%\")\n",
        "print(f\"f1-score: {f1_score(y_test, y_pred_ada)*100:.2f}%\")"
      ]
    },
    {
      "cell_type": "markdown",
      "metadata": {
        "id": "ukBUi7UNffXn"
      },
      "source": [
        "### Pegando os melhores hiperparametros com gridSearch"
      ]
    },
    {
      "cell_type": "code",
      "execution_count": 7,
      "metadata": {
        "colab": {
          "base_uri": "https://localhost:8080/"
        },
        "id": "17NB0l7AXHOW",
        "outputId": "2bf0b95d-a2e7-482a-ab38-8a6dd5dd0806"
      },
      "outputs": [],
      "source": [
        "# newTest = X_over[new_features]\n",
        "# X_train, X_test, y_train, y_test = train_test_split(newTest, y_over, test_size=0.1, random_state=42)\n",
        "\n",
        "# ada_boost = AdaBoostClassifier(random_state=42)\n",
        "\n",
        "# param_grid = {\n",
        "#     'n_estimators': [50, 100, 150],\n",
        "#     'learning_rate': [0.1, 0.5, 1.0],\n",
        "#     'algorithm': ['SAMME', 'SAMME.R']\n",
        "# }\n",
        "\n",
        "# grid_search = GridSearchCV(estimator=ada_boost, param_grid=param_grid, cv=5, scoring='accuracy', n_jobs=-1)\n",
        "\n",
        "# grid_search.fit(X_train, y_train)\n",
        "\n",
        "# best_model = grid_search.best_estimator_\n",
        "\n",
        "# y_pred_ada = best_model.predict(X_test)\n",
        "\n",
        "# print(\"Resultados do AdaBoost com os melhores hiperparâmetros:\")\n",
        "# print(classification_report(y_test, y_pred_ada))\n",
        "# print(f\"Acurácia: {accuracy_score(y_test, y_pred_ada)*100:.2f}%\")\n",
        "# print(f\"Precisão: {precision_score(y_test, y_pred_ada)*100:.2f}%\")\n",
        "# print(f\"f1-score: {f1_score(y_test, y_pred_ada)*100:.2f}%\")\n",
        "\n",
        "# print(\"Melhores hiperparâmetros:\", grid_search.best_params_)\n"
      ]
    },
    {
      "cell_type": "markdown",
      "metadata": {},
      "source": [
        "### Modelo final"
      ]
    },
    {
      "cell_type": "code",
      "execution_count": 9,
      "metadata": {},
      "outputs": [
        {
          "name": "stderr",
          "output_type": "stream",
          "text": [
            "/home/alisson/Área de trabalho/Aprendizado/3º Período/Inteligência Artifcial/MVP/venv/lib64/python3.12/site-packages/sklearn/ensemble/_weight_boosting.py:527: FutureWarning: The SAMME.R algorithm (the default) is deprecated and will be removed in 1.6. Use the SAMME algorithm to circumvent this warning.\n",
            "  warnings.warn(\n"
          ]
        },
        {
          "name": "stdout",
          "output_type": "stream",
          "text": [
            "Acurácia do modelo AdaBoost: 96.67%\n",
            "AdaBoostClassifier(learning_rate=0.5, random_state=42)\n"
          ]
        },
        {
          "data": {
            "text/html": [
              "<div>\n",
              "<style scoped>\n",
              "    .dataframe tbody tr th:only-of-type {\n",
              "        vertical-align: middle;\n",
              "    }\n",
              "\n",
              "    .dataframe tbody tr th {\n",
              "        vertical-align: top;\n",
              "    }\n",
              "\n",
              "    .dataframe thead th {\n",
              "        text-align: right;\n",
              "    }\n",
              "</style>\n",
              "<table border=\"1\" class=\"dataframe\">\n",
              "  <thead>\n",
              "    <tr style=\"text-align: right;\">\n",
              "      <th></th>\n",
              "      <th>Real</th>\n",
              "      <th>Previsto</th>\n",
              "    </tr>\n",
              "  </thead>\n",
              "  <tbody>\n",
              "    <tr>\n",
              "      <th>533</th>\n",
              "      <td>0</td>\n",
              "      <td>0</td>\n",
              "    </tr>\n",
              "    <tr>\n",
              "      <th>618</th>\n",
              "      <td>1</td>\n",
              "      <td>1</td>\n",
              "    </tr>\n",
              "    <tr>\n",
              "      <th>671</th>\n",
              "      <td>1</td>\n",
              "      <td>1</td>\n",
              "    </tr>\n",
              "    <tr>\n",
              "      <th>220</th>\n",
              "      <td>1</td>\n",
              "      <td>1</td>\n",
              "    </tr>\n",
              "    <tr>\n",
              "      <th>58</th>\n",
              "      <td>0</td>\n",
              "      <td>0</td>\n",
              "    </tr>\n",
              "    <tr>\n",
              "      <th>266</th>\n",
              "      <td>0</td>\n",
              "      <td>0</td>\n",
              "    </tr>\n",
              "    <tr>\n",
              "      <th>757</th>\n",
              "      <td>0</td>\n",
              "      <td>0</td>\n",
              "    </tr>\n",
              "    <tr>\n",
              "      <th>732</th>\n",
              "      <td>1</td>\n",
              "      <td>1</td>\n",
              "    </tr>\n",
              "    <tr>\n",
              "      <th>107</th>\n",
              "      <td>1</td>\n",
              "      <td>1</td>\n",
              "    </tr>\n",
              "    <tr>\n",
              "      <th>676</th>\n",
              "      <td>1</td>\n",
              "      <td>1</td>\n",
              "    </tr>\n",
              "  </tbody>\n",
              "</table>\n",
              "</div>"
            ],
            "text/plain": [
              "     Real  Previsto\n",
              "533     0         0\n",
              "618     1         1\n",
              "671     1         1\n",
              "220     1         1\n",
              "58      0         0\n",
              "266     0         0\n",
              "757     0         0\n",
              "732     1         1\n",
              "107     1         1\n",
              "676     1         1"
            ]
          },
          "execution_count": 9,
          "metadata": {},
          "output_type": "execute_result"
        }
      ],
      "source": [
        "new_features = ['G2', 'G1', 'failures', 'Medu', 'paid', 'Fedu', 'Fjob', 'Mjob', 'guardian', 'age', 'schoolsup', 'higher']\n",
        "\n",
        "newTest = X_over[new_features]\n",
        "\n",
        "X_train, X_test, y_train, y_test = train_test_split(newTest, y_over, test_size=0.1, random_state=42)\n",
        "\n",
        "#Melhores hiperparametros encontrados para o adaBoost\n",
        "ada_boost = AdaBoostClassifier(algorithm='SAMME.R', learning_rate=0.5, n_estimators=50, random_state=42)\n",
        "\n",
        "ada_boost.fit(X_train, y_train)\n",
        "\n",
        "y_pred_ada = ada_boost.predict(X_test)\n",
        "\n",
        "accuracy = accuracy_score(y_test, y_pred_ada)\n",
        "print(f\"Acurácia do modelo AdaBoost: {accuracy * 100:.2f}%\")\n",
        "\n",
        "with open('modelo_adaBoost.pkl', 'wb') as f:\n",
        "    pickle.dump(ada_boost, f)\n",
        "\n",
        "results_df = pd.DataFrame({'Real': y_test, 'Previsto': y_pred_ada})\n",
        "results_df.head(10)"
      ]
    }
  ],
  "metadata": {
    "colab": {
      "collapsed_sections": [
        "9Ftvzkni1fkS",
        "ZMnCRg9L6Dnd"
      ],
      "provenance": [],
      "toc_visible": true
    },
    "kernelspec": {
      "display_name": "Python 3",
      "name": "python3"
    },
    "language_info": {
      "codemirror_mode": {
        "name": "ipython",
        "version": 3
      },
      "file_extension": ".py",
      "mimetype": "text/x-python",
      "name": "python",
      "nbconvert_exporter": "python",
      "pygments_lexer": "ipython3",
      "version": "3.12.7"
    }
  },
  "nbformat": 4,
  "nbformat_minor": 0
}
